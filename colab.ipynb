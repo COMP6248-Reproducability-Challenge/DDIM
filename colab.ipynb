{
  "nbformat": 4,
  "nbformat_minor": 0,
  "metadata": {
    "colab": {
      "name": "ddim.ipynb",
      "provenance": [],
      "collapsed_sections": []
    },
    "kernelspec": {
      "name": "python3",
      "display_name": "Python 3"
    },
    "language_info": {
      "name": "python"
    },
    "accelerator": "GPU"
  },
  "cells": [
    {
      "cell_type": "code",
      "metadata": {
        "id": "B5PFKC86WVZi",
        "colab": {
          "base_uri": "https://localhost:8080/"
        },
        "outputId": "5cdb06d7-d4b6-42dd-8807-e762aafb0e3f"
      },
      "source": [
        "import os\n",
        "if not os.path.exists('DDIM'):\n",
        "  !git clone https://github.com/COMP6248-Reproducability-Challenge/DDIM.git\n",
        "  import sys\n",
        "  if not 'DDIM' in sys.path:\n",
        "      sys.path += ['DDIM']\n",
        "if not os.path.exists('cifar10_uncond_50M_500K.pt'):\n",
        "  !wget https://openaipublic.blob.core.windows.net/diffusion/march-2021/cifar10_uncond_50M_500K.pt"
      ],
      "execution_count": 1,
      "outputs": [
        {
          "output_type": "stream",
          "text": [
            "fatal: destination path 'DDIM' already exists and is not an empty directory.\n",
            "--2021-05-08 03:57:03--  https://openaipublic.blob.core.windows.net/diffusion/march-2021/cifar10_uncond_50M_500K.pt\n",
            "Resolving openaipublic.blob.core.windows.net (openaipublic.blob.core.windows.net)... 20.150.77.132\n",
            "Connecting to openaipublic.blob.core.windows.net (openaipublic.blob.core.windows.net)|20.150.77.132|:443... connected.\n",
            "HTTP request sent, awaiting response... 200 OK\n",
            "Length: 210292511 (201M) [application/octet-stream]\n",
            "Saving to: ‘cifar10_uncond_50M_500K.pt.1’\n",
            "\n",
            "cifar10_uncond_50M_ 100%[===================>] 200.55M  18.0MB/s    in 15s     \n",
            "\n",
            "2021-05-08 03:57:18 (13.6 MB/s) - ‘cifar10_uncond_50M_500K.pt.1’ saved [210292511/210292511]\n",
            "\n"
          ],
          "name": "stdout"
        }
      ]
    },
    {
      "cell_type": "code",
      "metadata": {
        "id": "R753iSs7hOE_"
      },
      "source": [
        "import torch\n",
        "import numpy as np\n",
        "import torchvision.transforms as transforms\n",
        "from torchvision.datasets import CIFAR100\n",
        "from torch.utils.data import Dataset, DataLoader\n",
        "import matplotlib.pyplot as plt\n",
        "\n",
        "from DDIM.model import DenoisingDiffusionNet,extract\n",
        "from DDIM.DenoisingNet import UNetModel\n",
        "%matplotlib inline"
      ],
      "execution_count": 10,
      "outputs": []
    },
    {
      "cell_type": "code",
      "metadata": {
        "id": "UmoA0PeRC9Wa"
      },
      "source": [
        "device = torch.device(\"cuda\")\n",
        "states = torch.load(\n",
        "    \"cifar10_uncond_50M_500K.pt\",\n",
        "    map_location=device,\n",
        ")\n",
        "denoise_model = UNetModel(\n",
        "    in_channels=3,\n",
        "    model_channels=128,\n",
        "    out_channels=6,\n",
        "    num_res_blocks=3,\n",
        "    attention_resolutions=(2,4),\n",
        "    dropout=0.3,\n",
        "    channel_mult=(1, 2, 2, 2),\n",
        "    num_classes=None,\n",
        "    use_checkpoint=False,\n",
        "    num_heads=4,\n",
        "    num_heads_upsample=-1,\n",
        "    use_scale_shift_norm=True,\n",
        ")\n",
        "denoise_model.load_state_dict(states)\n",
        "denoise_model = denoise_model.cuda()\n",
        "\n",
        "model = DenoisingDiffusionNet(1000,denoise_model)\n",
        "model = model.cuda()"
      ],
      "execution_count": 3,
      "outputs": []
    },
    {
      "cell_type": "code",
      "metadata": {
        "colab": {
          "base_uri": "https://localhost:8080/",
          "height": 320
        },
        "id": "OsB4Ci_DGZ34",
        "outputId": "d4974055-bee6-41bf-ba1f-034ab526f94a"
      },
      "source": [
        "img = model.sample(device)\n",
        "plt.imshow(img.permute(1, 2, 0))"
      ],
      "execution_count": 14,
      "outputs": [
        {
          "output_type": "stream",
          "text": [
            "Clipping input data to the valid range for imshow with RGB data ([0..1] for floats or [0..255] for integers).\n"
          ],
          "name": "stderr"
        },
        {
          "output_type": "execute_result",
          "data": {
            "text/plain": [
              "<matplotlib.image.AxesImage at 0x7fed559ce150>"
            ]
          },
          "metadata": {
            "tags": []
          },
          "execution_count": 14
        },
        {
          "output_type": "display_data",
          "data": {
            "image/png": "[encoded data removed]",
            "text/plain": [
              "<Figure size 432x288 with 1 Axes>"
            ]
          },
          "metadata": {
            "tags": [],
            "needs_background": "light"
          }
        }
      ]
    },
    {
      "cell_type": "code",
      "metadata": {
        "id": "lkYkUQhGIGb0"
      },
      "source": [
        ""
      ],
      "execution_count": null,
      "outputs": []
    }
  ]
}